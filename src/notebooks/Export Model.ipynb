{
 "cells": [
  {
   "cell_type": "code",
   "execution_count": 1,
   "id": "c55a21c6",
   "metadata": {},
   "outputs": [],
   "source": [
    "with open('/usr/local/lib/python3.10/site-packages/tensorflow/python/keras/utils/tf_utils.py') as f:\n",
    "    tf_utils = f.read()\n",
    "\n",
    "#with open('/usr/local/lib/python3.10/site-packages/tensorflow/python/keras/utils/tf_utils.py', 'w') as f:\n",
    "  # Set labelmap path\n",
    " # throw_statement = \"raise TypeError('Expected Operation, Variable, or Tensor, got ' + str(x))\"\n",
    "  #tf_utils = tf_utils.replace(throw_statement, \"if not isinstance(x, str):\" + throw_statement)\n",
    "  #f.write(tf_utils)"
   ]
  },
  {
   "cell_type": "code",
   "execution_count": 2,
   "id": "ebae5e3c",
   "metadata": {},
   "outputs": [
    {
     "name": "stdout",
     "output_type": "stream",
     "text": [
      "2022-11-03 11:58:17.263050: I tensorflow/core/platform/cpu_feature_guard.cc:193] This TensorFlow binary is optimized with oneAPI Deep Neural Network Library (oneDNN) to use the following CPU instructions in performance-critical operations:  AVX2 FMA\n",
      "To enable them in other operations, rebuild TensorFlow with the appropriate compiler flags.\n",
      "WARNING:tensorflow:From /usr/local/lib/python3.10/site-packages/tensorflow/python/autograph/impl/api.py:458: calling map_fn_v2 (from tensorflow.python.ops.map_fn) with back_prop=False is deprecated and will be removed in a future version.\n",
      "Instructions for updating:\n",
      "back_prop=False is deprecated. Consider using tf.stop_gradient instead.\n",
      "Instead of:\n",
      "results = tf.map_fn(fn, elems, back_prop=False)\n",
      "Use:\n",
      "results = tf.nest.map_structure(tf.stop_gradient, tf.map_fn(fn, elems))\n",
      "W1103 11:58:17.482142 4443039232 deprecation.py:623] From /usr/local/lib/python3.10/site-packages/tensorflow/python/autograph/impl/api.py:458: calling map_fn_v2 (from tensorflow.python.ops.map_fn) with back_prop=False is deprecated and will be removed in a future version.\n",
      "Instructions for updating:\n",
      "back_prop=False is deprecated. Consider using tf.stop_gradient instead.\n",
      "Instead of:\n",
      "results = tf.map_fn(fn, elems, back_prop=False)\n",
      "Use:\n",
      "results = tf.nest.map_structure(tf.stop_gradient, tf.map_fn(fn, elems))\n",
      "INFO:tensorflow:depth of additional conv before box predictor: 0\n",
      "I1103 11:58:22.887655 4443039232 convolutional_keras_box_predictor.py:152] depth of additional conv before box predictor: 0\n",
      "INFO:tensorflow:depth of additional conv before box predictor: 0\n",
      "I1103 11:58:22.887912 4443039232 convolutional_keras_box_predictor.py:152] depth of additional conv before box predictor: 0\n",
      "INFO:tensorflow:depth of additional conv before box predictor: 0\n",
      "I1103 11:58:22.888020 4443039232 convolutional_keras_box_predictor.py:152] depth of additional conv before box predictor: 0\n",
      "INFO:tensorflow:depth of additional conv before box predictor: 0\n",
      "I1103 11:58:22.888114 4443039232 convolutional_keras_box_predictor.py:152] depth of additional conv before box predictor: 0\n",
      "INFO:tensorflow:depth of additional conv before box predictor: 0\n",
      "I1103 11:58:22.888207 4443039232 convolutional_keras_box_predictor.py:152] depth of additional conv before box predictor: 0\n",
      "INFO:tensorflow:depth of additional conv before box predictor: 0\n",
      "I1103 11:58:22.888293 4443039232 convolutional_keras_box_predictor.py:152] depth of additional conv before box predictor: 0\n",
      "WARNING:tensorflow:Skipping full serialization of Keras layer <object_detection.meta_architectures.ssd_meta_arch.SSDMetaArch object at 0x155482a10>, because it is not built.\n",
      "W1103 11:58:35.078332 4443039232 save_impl.py:71] Skipping full serialization of Keras layer <object_detection.meta_architectures.ssd_meta_arch.SSDMetaArch object at 0x155482a10>, because it is not built.\n",
      "W1103 11:58:49.948134 4443039232 save.py:233] Found untraced functions such as BoxPredictor_layer_call_fn, BoxPredictor_layer_call_and_return_conditional_losses, _jit_compiled_convolution_op, _jit_compiled_convolution_op, _jit_compiled_convolution_op while saving (showing 5 of 122). These functions will not be directly callable after loading.\n",
      "INFO:tensorflow:Assets written to: ../model/inference_graph/saved_model/assets\n",
      "I1103 11:58:54.434306 4443039232 builder_impl.py:779] Assets written to: ../model/inference_graph/saved_model/assets\n",
      "INFO:tensorflow:Writing pipeline config file to ../model/inference_graph/pipeline.config\n",
      "I1103 11:58:54.993688 4443039232 config_util.py:253] Writing pipeline config file to ../model/inference_graph/pipeline.config\n",
      "Done!\n"
     ]
    }
   ],
   "source": [
    "!python3 ../model/models/research/object_detection/exporter_main_v2.py \\\n",
    "    --trained_checkpoint_dir ../model/training/ \\\n",
    "    --output_directory ../model/inference_graph \\\n",
    "    --pipeline_config_path ../model/content/mobilenet_v2.config\n",
    "!echo \"Done!\""
   ]
  },
  {
   "cell_type": "code",
   "execution_count": null,
   "id": "866a5df5",
   "metadata": {},
   "outputs": [],
   "source": []
  }
 ],
 "metadata": {
  "kernelspec": {
   "display_name": "Python 3 (ipykernel)",
   "language": "python",
   "name": "python3"
  },
  "language_info": {
   "codemirror_mode": {
    "name": "ipython",
    "version": 3
   },
   "file_extension": ".py",
   "mimetype": "text/x-python",
   "name": "python",
   "nbconvert_exporter": "python",
   "pygments_lexer": "ipython3",
   "version": "3.10.8"
  }
 },
 "nbformat": 4,
 "nbformat_minor": 5
}
