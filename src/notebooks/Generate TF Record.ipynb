{
 "cells": [
  {
   "cell_type": "markdown",
   "id": "5dfa30e5",
   "metadata": {},
   "source": [
    "# Notebook for Generating TensorFlow Records for Dataset\n",
    "A record allows for serialized, structured data to be represented in a binary format and cross-platform. \n",
    "This allows models to be easily re-trained on platform independent data, and stored in a compiled format.\n",
    "\n",
    "To prepare such a record, a few things are needed:\n",
    "1. A collection of CSV records for the training of the model, including the labels, classifications, and file names\n",
    "2. The image files themselves.\n",
    "\n",
    "Credit is due to the TensorFlow team for providing a utility for this, modified below.\n",
    "\n",
    "[Official TFRecord Reference](https://www.tensorflow.org/tutorials/load_data/tfrecord)"
   ]
  },
  {
   "cell_type": "code",
   "execution_count": 1,
   "id": "873c7998",
   "metadata": {},
   "outputs": [],
   "source": [
    "from __future__ import division\n",
    "from __future__ import print_function\n",
    "from __future__ import absolute_import\n",
    "\n",
    "import os\n",
    "import io\n",
    "import pandas as pd\n",
    "\n",
    "from tensorflow.python.framework.versions import VERSION\n",
    "if VERSION >= \"2.0.0a0\":\n",
    "    import tensorflow.compat.v1 as tf\n",
    "else:\n",
    "    import tensorflow as tf\n",
    "\n",
    "from PIL import Image\n",
    "from object_detection.utils import dataset_util\n",
    "from collections import namedtuple, OrderedDict"
   ]
  },
  {
   "cell_type": "markdown",
   "id": "036f1115",
   "metadata": {},
   "source": [
    "The variables below can be configured depending on the needs and locations of the data."
   ]
  },
  {
   "cell_type": "code",
   "execution_count": 17,
   "id": "39446e19",
   "metadata": {},
   "outputs": [],
   "source": [
    "csv_input = \"../data/train_labels.csv\"\n",
    "image_dir = \"../data/images\"\n",
    "output_path = \"../model/train.record\""
   ]
  },
  {
   "cell_type": "markdown",
   "id": "10be2caa",
   "metadata": {},
   "source": [
    "The function below allows for conversion between the textual naming identity of the classifications and\n",
    "the integer representations. This is how the classifications are stored internally."
   ]
  },
  {
   "cell_type": "code",
   "execution_count": 18,
   "id": "abe516ba",
   "metadata": {},
   "outputs": [],
   "source": [
    "def class_text_to_int(row_label):\n",
    "    if row_label == 'military tank':\n",
    "        return 1\n",
    "    elif row_label == 'military aircraft':\n",
    "        return 2\n",
    "    elif row_label == 'military truck':\n",
    "        return 3\n",
    "    elif row_label == 'civilian aircraft':\n",
    "        return 4\n",
    "    elif row_label == 'civilian car':\n",
    "        return 5\n",
    "    elif row_label == 'military helicopter':\n",
    "        return 6\n",
    "    else:\n",
    "        return None\n",
    "    \n",
    "def split(df, group):\n",
    "    data = namedtuple('data', ['filename', 'object'])\n",
    "    gb = df.groupby(group)\n",
    "\n",
    "    return [data(filename, gb.get_group(x)) for filename, x in zip(gb.groups.keys(), gb.groups)]"
   ]
  },
  {
   "cell_type": "markdown",
   "id": "37e40f7d",
   "metadata": {},
   "source": [
    "The next step is to create the binary representation of the record and return it. This is formatted to allow TF to train on this data. This is done by first reading in the file as raw JPG data, setting all of the attributes in the binary format, and returning."
   ]
  },
  {
   "cell_type": "code",
   "execution_count": 19,
   "id": "e5e1f93d",
   "metadata": {},
   "outputs": [],
   "source": [
    "def create_tf_record(group, path):\n",
    "    with tf.gfile.GFile(os.path.join(path, '{}'.format(group.filename)), 'rb') as fid:\n",
    "        encoded_jpg = fid.read()\n",
    "\n",
    "    encoded_jpg_io = io.BytesIO(encoded_jpg)\n",
    "    image = Image.open(encoded_jpg_io)\n",
    "    width, height = image.size\n",
    "\n",
    "    filename = group.filename.encode('utf8')\n",
    "    image_format = b'jpg'\n",
    "    xmins = []\n",
    "    xmaxs = []\n",
    "    ymins = []\n",
    "    ymaxs = []\n",
    "    classes_text = []\n",
    "    classes = []\n",
    "\n",
    "    # Add all of the objects to the arrays.\n",
    "    for index, row in group.object.iterrows():\n",
    "        xmins.append(row['xmin'] / width)\n",
    "        xmaxs.append(row['xmax'] / width)\n",
    "        ymins.append(row['ymin'] / height)\n",
    "        ymaxs.append(row['ymax'] / height)\n",
    "        classes_text.append(row['class'].encode('utf8'))\n",
    "        classes.append(class_text_to_int(row['class']))\n",
    "        \n",
    "    tf_record = tf.train.Example(features=tf.train.Features(feature = {\n",
    "        'image/height': dataset_util.int64_feature(height),\n",
    "        'image/width': dataset_util.int64_feature(width),\n",
    "        'image/filename': dataset_util.bytes_feature(filename),\n",
    "        'image/source_id': dataset_util.bytes_feature(filename),\n",
    "        'image/encoded': dataset_util.bytes_feature(encoded_jpg),\n",
    "        'image/format': dataset_util.bytes_feature(image_format),\n",
    "        'image/object/bbox/xmin': dataset_util.float_list_feature(xmins),\n",
    "        'image/object/bbox/xmax': dataset_util.float_list_feature(xmaxs),\n",
    "        'image/object/bbox/ymin': dataset_util.float_list_feature(ymins),\n",
    "        'image/object/bbox/ymax': dataset_util.float_list_feature(ymaxs),\n",
    "        'image/object/class/text': dataset_util.bytes_list_feature(classes_text),\n",
    "        'image/object/class/label': dataset_util.int64_list_feature(classes)\n",
    "    }))\n",
    "\n",
    "    return tf_record"
   ]
  },
  {
   "cell_type": "code",
   "execution_count": 22,
   "id": "3a9d94f6",
   "metadata": {},
   "outputs": [
    {
     "name": "stdout",
     "output_type": "stream",
     "text": [
      "Reading CSV label file...\n",
      "Beginning compilation...\n",
      "Successfully created the TFRecords: \n",
      "/Users/wpach/Dropbox/School/USC/Fall 2022/CSCE-585/Project/src/notebooks/train.record\n"
     ]
    }
   ],
   "source": [
    "writer = tf.python_io.TFRecordWriter(output_path)\n",
    "path = os.path.join(os.getcwd(), image_dir)\n",
    "\n",
    "print(\"Reading CSV label file...\")\n",
    "examples = pd.read_csv(csv_input)\n",
    "grouped = split(examples, 'filename')\n",
    "\n",
    "print(\"Beginning compilation...\")\n",
    "\n",
    "for group in grouped:\n",
    "    tf_record = create_tf_record(group, path)\n",
    "    writer.write(tf_record.SerializeToString())\n",
    "\n",
    "writer.close()\n",
    "output_path = os.path.join(os.getcwd(), output_path)\n",
    "print(f\"Successfully created the TFRecords: \\n{output_path}\")"
   ]
  },
  {
   "cell_type": "code",
   "execution_count": null,
   "id": "0ff6c1e6",
   "metadata": {},
   "outputs": [],
   "source": []
  }
 ],
 "metadata": {
  "kernelspec": {
   "display_name": "Python 3 (ipykernel)",
   "language": "python",
   "name": "python3"
  },
  "language_info": {
   "codemirror_mode": {
    "name": "ipython",
    "version": 3
   },
   "file_extension": ".py",
   "mimetype": "text/x-python",
   "name": "python",
   "nbconvert_exporter": "python",
   "pygments_lexer": "ipython3",
   "version": "3.10.6"
  }
 },
 "nbformat": 4,
 "nbformat_minor": 5
}
