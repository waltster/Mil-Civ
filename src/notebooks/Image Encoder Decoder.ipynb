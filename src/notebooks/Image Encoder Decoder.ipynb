{
 "cells": [
  {
   "cell_type": "code",
   "execution_count": 1,
   "id": "e566dd1e",
   "metadata": {},
   "outputs": [],
   "source": [
    "from base64 import b64encode, b64decode\n",
    "from PIL import Image\n",
    "import io"
   ]
  },
  {
   "cell_type": "code",
   "execution_count": 2,
   "id": "7e44cbd6",
   "metadata": {},
   "outputs": [],
   "source": [
    "def decode_base64_as_image(b_in):\n",
    "    image_data = b64decode(b_in)\n",
    "    image = Image.open(io.BytesIO(image_data))\n",
    "\n",
    "    return image"
   ]
  },
  {
   "cell_type": "code",
   "execution_count": 3,
   "id": "0d1d136f",
   "metadata": {},
   "outputs": [],
   "source": [
    "def encode_image_as_base64(image_in):\n",
    "    base64_data = b64encode(image_in)\n",
    "    return base64_data"
   ]
  },
  {
   "cell_type": "code",
   "execution_count": 5,
   "id": "5f2d18ec",
   "metadata": {},
   "outputs": [
    {
     "name": "stdout",
     "output_type": "stream",
     "text": [
      "base64: b'iVBORw0KGgoAAAANSUhEUgAAAGQAAABkCAIAAAD/gAIDAAAB10lEQVR4nOzcv0ocURxH8bvZSRaWZbfIhDQhr5KwXUidhZCkShFImnR5jaTIE6goFrY26ssIgjKFK7o47h8tBNvf78AiFudTf7kMh9sMA1P9/zkukX6vCjellJejQbg5aaaZo6rus3DTe97NHDUa9MPN8dl55qj4mfTAWICxAGMBxgKMBRgLMBZgLMBYgLGAath/EY4uZjeZs4bzebh5NYrf1Eop7XwRbpar28xR08tZuFksV5mjvFmAsQBjAcYCjAUYCzAWYCzAWICxAGMBxgKqq+v47fdNHX89LaV8fPcp3Gzvb2WO+vzhS2a2LnsHO5mZNwswFmAswFiAsQBjAcYCjAUYCzAWYCyg8+/H+3D0a/L9UR7mqfNmAcYCjAUYCzAWYCzAWICxAGMBxgKMBRgL6CwON8JRd/w1c1Zd1+HmdPdv7sFirye/M7OmacLN8mgzc5Q3CzAWYCzAWICxAGMBxgKMBRgLMBZgLCD1bqh73izAWICxAGMBxgKMBRgLMBZgLMBYgLEAYwGp/wCv0dtvfzKztm3DzRq/1yZ5swBjAcYCjAUYCzAWYCzAWICxAGMBxgL8yAp4swBjAcYCjAUYCzAWYCzAWICxAGMBxgKMBdwFAAD//0T9OoH+gfitAAAAAElFTkSuQmCC'\n"
     ]
    },
    {
     "data": {
      "image/png": "[encoded data removed]",
      "text/plain": [
       "<PIL.PngImagePlugin.PngImageFile image mode=RGB size=100x100>"
      ]
     },
     "metadata": {},
     "output_type": "display_data"
    }
   ],
   "source": [
    "with open('./test.png', 'rb') as f:\n",
    "    #b_64 = encode_image_as_base64(f.read())\n",
    "    \n",
    "    #print(f\"base64: {b_64}\")\n",
    "    \n",
    "    img = decode_base64_as_image(b'iVBORw0KGgoAAAANSUhEUgAAAGQAAABkCAIAAAD/gAIDAAAByUlEQVR4nO3cQSsDcBjH8f9srNayg8lF3gq5yZkSTg6Ki5u3wcErQOTg6oI3oxTtYEJmGw7K9Xm+NQf1/Zx/Pa1v/8tarXK0s1gijXot3JRSplrNcHPf6WZO1apj4aY+Xs2cajUb4ebu8SlzKv5M+mUswFiAsQBjAcYCjAUYCzAWYCzAWEBtsjERjp7fPjK3Jvv9cDPdir+plVJ6/UG4GX5+ZU51X97CzWD4mTnlywKMBRgLMBZgLMBYgLEAYwHGAowFGAswFlB7fY+//c62419PSynL8yvh5uzqNHNqbWk9MxuVy+vzzMyXBRgLMBZgLMBYgLEAYwHGAowFGAswFlA53F4IR7urW3//Sf4BXxZgLMBYgLEAYwHGAowFGAswFmAswFiAsYDK4OY4HFUXNzK32u12uHm4OMicyphZ3cvMOp1OuBnenmRO+bIAYwHGAowFGAswFmAswFiAsQBjAcYCUt8N9cOXBRgLMBZgLMBYgLEAYwHGAowFGAswFmAsIPU/wCM0t7mfmfV6vXAzwt9rk3xZgLEAYwHGAowFGAswFmAswFiAsQBjAf7ICviyAGMBxgKMBRgLMBZgLMBYgLEAYwHGAowFfAPkIzp+y39+wwAAAABJRU5ErkJggg==')\n",
    "    display(img)"
   ]
  },
  {
   "cell_type": "code",
   "execution_count": 6,
   "id": "6500ecbb",
   "metadata": {},
   "outputs": [
    {
     "data": {
      "image/png": "[encoded data removed]",
      "text/plain": [
       "<PIL.PngImagePlugin.PngImageFile image mode=RGB size=100x100>"
      ]
     },
     "metadata": {},
     "output_type": "display_data"
    }
   ],
   "source": [
    "img = decode_base64_as_image(b'iVBORw0KGgoAAAANSUhEUgAAAGQAAABkCAIAAAD/gAIDAAAByUlEQVR4nO3cQSsDcBjH8f9srNayg8lF3gq5yZkSTg6Ki5u3wcErQOTg6oI3oxTtYEJmGw7K9Xm+NQf1/Zx/Pa1v/8tarXK0s1gijXot3JRSplrNcHPf6WZO1apj4aY+Xs2cajUb4ebu8SlzKv5M+mUswFiAsQBjAcYCjAUYCzAWYCzAWEBtsjERjp7fPjK3Jvv9cDPdir+plVJ6/UG4GX5+ZU51X97CzWD4mTnlywKMBRgLMBZgLMBYgLEAYwHGAowFGAswFlB7fY+//c62419PSynL8yvh5uzqNHNqbWk9MxuVy+vzzMyXBRgLMBZgLMBYgLEAYwHGAowFGAswFlA53F4IR7urW3//Sf4BXxZgLMBYgLEAYwHGAowFGAswFmAswFiAsYDK4OY4HFUXNzK32u12uHm4OMicyphZ3cvMOp1OuBnenmRO+bIAYwHGAowFGAswFmAswFiAsQBjAcYCUt8N9cOXBRgLMBZgLMBYgLEAYwHGAowFGAswFmAsIPU/wCM0t7mfmfV6vXAzwt9rk3xZgLEAYwHGAowFGAswFmAswFiAsQBjAf7ICviyAGMBxgKMBRgLMBZgLMBYgLEAYwHGAowFfAPkIzp+y39+wwAAAABJRU5ErkJggg==')\n",
    "display(img)"
   ]
  },
  {
   "cell_type": "code",
   "execution_count": null,
   "id": "293bbddb",
   "metadata": {},
   "outputs": [],
   "source": []
  }
 ],
 "metadata": {
  "kernelspec": {
   "display_name": "Python 3 (ipykernel)",
   "language": "python",
   "name": "python3"
  },
  "language_info": {
   "codemirror_mode": {
    "name": "ipython",
    "version": 3
   },
   "file_extension": ".py",
   "mimetype": "text/x-python",
   "name": "python",
   "nbconvert_exporter": "python",
   "pygments_lexer": "ipython3",
   "version": "3.10.8"
  }
 },
 "nbformat": 4,
 "nbformat_minor": 5
}
