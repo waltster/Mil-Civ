{
 "cells": [
  {
   "cell_type": "markdown",
   "id": "cd9df0ad",
   "metadata": {},
   "source": [
    "# Notebook for Fetching Configuration"
   ]
  },
  {
   "cell_type": "code",
   "execution_count": null,
   "id": "25f2bf77",
   "metadata": {},
   "outputs": [],
   "source": [
    "!wget http://download.tensorflow.org/models/object_detection/classification/tf2/20200710/mobilenet_v2.tar.gz\n",
    "!tar -xvf mobilenet_v2.tar.gz\n",
    "!rm mobilenet_v2.tar.gz"
   ]
  },
  {
   "cell_type": "code",
   "execution_count": null,
   "id": "f5b1b1c3",
   "metadata": {},
   "outputs": [],
   "source": [
    "!wget https://raw.githubusercontent.com/tensorflow/models/master/research/object_detection/configs/tf2/ssd_mobilenet_v2_320x320_coco17_tpu-8.config\n",
    "!mv ssd_mobilenet_v2_320x320_coco17_tpu-8.config mobilenet_v2.config"
   ]
  },
  {
   "cell_type": "code",
   "execution_count": null,
   "id": "e79b82ce",
   "metadata": {},
   "outputs": [],
   "source": [
    "!rm -r mobilenet_v2 mobilenet_v2.config"
   ]
  }
 ],
 "metadata": {
  "kernelspec": {
   "display_name": "Python 3 (ipykernel)",
   "language": "python",
   "name": "python3"
  },
  "language_info": {
   "codemirror_mode": {
    "name": "ipython",
    "version": 3
   },
   "file_extension": ".py",
   "mimetype": "text/x-python",
   "name": "python",
   "nbconvert_exporter": "python",
   "pygments_lexer": "ipython3",
   "version": "3.10.6"
  }
 },
 "nbformat": 4,
 "nbformat_minor": 5
}
