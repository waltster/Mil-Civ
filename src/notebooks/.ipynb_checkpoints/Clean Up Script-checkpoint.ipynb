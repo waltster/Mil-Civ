{
 "cells": [
  {
   "cell_type": "markdown",
   "id": "1b85262b",
   "metadata": {},
   "source": [
    "# Clean-Up Script"
   ]
  },
  {
   "cell_type": "code",
   "execution_count": 3,
   "id": "98be0055",
   "metadata": {},
   "outputs": [],
   "source": [
    "!rm -rf ../model/content/mobilenet_v2.config ../model/content/mobilenet_v2\n",
    "!rm -rf ../model/models\n",
    "!rm -rf ../model/train.record ../model/test.record"
   ]
  }
 ],
 "metadata": {
  "kernelspec": {
   "display_name": "Python 3 (ipykernel)",
   "language": "python",
   "name": "python3"
  },
  "language_info": {
   "codemirror_mode": {
    "name": "ipython",
    "version": 3
   },
   "file_extension": ".py",
   "mimetype": "text/x-python",
   "name": "python",
   "nbconvert_exporter": "python",
   "pygments_lexer": "ipython3",
   "version": "3.10.6"
  }
 },
 "nbformat": 4,
 "nbformat_minor": 5
}
