{
 "cells": [
  {
   "cell_type": "markdown",
   "id": "9b019ec3",
   "metadata": {},
   "source": [
    "# Notebook for Training Model\n",
    "This notebook contains all of the commands, environment setup, and code to begin training the model."
   ]
  },
  {
   "cell_type": "markdown",
   "id": "962345e5",
   "metadata": {},
   "source": [
    "## 1. Generating TensorFlow Records for Data\n",
    "Generating TF Records is an important step in generating the model as a whole.\n",
    "This component allows TF to parse and train the model and for the distribution\n",
    "of the model in a cross-platform format. See `src/notebooks/Generate TF Record` \n",
    "notebook for more detail."
   ]
  },
  {
   "cell_type": "code",
   "execution_count": 1,
   "id": "18157f95",
   "metadata": {},
   "outputs": [],
   "source": [
    "from __future__ import division\n",
    "from __future__ import print_function\n",
    "from __future__ import absolute_import\n",
    "\n",
    "import os\n",
    "import io\n",
    "import pandas as pd\n",
    "\n",
    "from tensorflow.python.framework.versions import VERSION\n",
    "if VERSION >= \"2.0.0a0\":\n",
    "    import tensorflow.compat.v1 as tf\n",
    "else:\n",
    "    import tensorflow as tf\n",
    "\n",
    "from PIL import Image\n",
    "from object_detection.utils import dataset_util\n",
    "from collections import namedtuple, OrderedDict"
   ]
  },
  {
   "cell_type": "code",
   "execution_count": 2,
   "id": "5af9e647",
   "metadata": {},
   "outputs": [],
   "source": [
    "csv_input = \"../data/train_labels.csv\"\n",
    "image_dir = \"../data/images\"\n",
    "output_path = \"../model/train.record\""
   ]
  },
  {
   "cell_type": "code",
   "execution_count": 3,
   "id": "bfa382a1",
   "metadata": {},
   "outputs": [],
   "source": [
    "def class_text_to_int(row_label):\n",
    "    if row_label == 'military tank':\n",
    "        return 1\n",
    "    elif row_label == 'military aircraft':\n",
    "        return 2\n",
    "    elif row_label == 'military truck':\n",
    "        return 3\n",
    "    elif row_label == 'civilian aircraft':\n",
    "        return 4\n",
    "    elif row_label == 'civilian car':\n",
    "        return 5\n",
    "    elif row_label == 'military helicopter':\n",
    "        return 6\n",
    "    else:\n",
    "        return None\n",
    "    \n",
    "def split(df, group):\n",
    "    data = namedtuple('data', ['filename', 'object'])\n",
    "    gb = df.groupby(group)\n",
    "\n",
    "    return [data(filename, gb.get_group(x)) for filename, x in zip(gb.groups.keys(), gb.groups)]"
   ]
  },
  {
   "cell_type": "code",
   "execution_count": 4,
   "id": "a0e83d4d",
   "metadata": {},
   "outputs": [],
   "source": [
    "def create_tf_record(group, path):\n",
    "    with tf.gfile.GFile(os.path.join(path, '{}'.format(group.filename)), 'rb') as fid:\n",
    "        encoded_jpg = fid.read()\n",
    "\n",
    "    encoded_jpg_io = io.BytesIO(encoded_jpg)\n",
    "    image = Image.open(encoded_jpg_io)\n",
    "    width, height = image.size\n",
    "\n",
    "    filename = group.filename.encode('utf8')\n",
    "    image_format = b'jpg'\n",
    "    xmins = []\n",
    "    xmaxs = []\n",
    "    ymins = []\n",
    "    ymaxs = []\n",
    "    classes_text = []\n",
    "    classes = []\n",
    "\n",
    "    # Add all of the objects to the arrays.\n",
    "    for index, row in group.object.iterrows():\n",
    "        xmins.append(row['xmin'] / width)\n",
    "        xmaxs.append(row['xmax'] / width)\n",
    "        ymins.append(row['ymin'] / height)\n",
    "        ymaxs.append(row['ymax'] / height)\n",
    "        classes_text.append(row['class'].encode('utf8'))\n",
    "        classes.append(class_text_to_int(row['class']))\n",
    "        \n",
    "    tf_record = tf.train.Example(features=tf.train.Features(feature = {\n",
    "        'image/height': dataset_util.int64_feature(height),\n",
    "        'image/width': dataset_util.int64_feature(width),\n",
    "        'image/filename': dataset_util.bytes_feature(filename),\n",
    "        'image/source_id': dataset_util.bytes_feature(filename),\n",
    "        'image/encoded': dataset_util.bytes_feature(encoded_jpg),\n",
    "        'image/format': dataset_util.bytes_feature(image_format),\n",
    "        'image/object/bbox/xmin': dataset_util.float_list_feature(xmins),\n",
    "        'image/object/bbox/xmax': dataset_util.float_list_feature(xmaxs),\n",
    "        'image/object/bbox/ymin': dataset_util.float_list_feature(ymins),\n",
    "        'image/object/bbox/ymax': dataset_util.float_list_feature(ymaxs),\n",
    "        'image/object/class/text': dataset_util.bytes_list_feature(classes_text),\n",
    "        'image/object/class/label': dataset_util.int64_list_feature(classes)\n",
    "    }))\n",
    "\n",
    "    return tf_record"
   ]
  },
  {
   "cell_type": "code",
   "execution_count": 5,
   "id": "7f9a3c6b",
   "metadata": {},
   "outputs": [
    {
     "name": "stdout",
     "output_type": "stream",
     "text": [
      "Reading CSV label file...\n",
      "Beginning compilation...\n",
      "Successfully created the TFRecords: \n",
      "/Users/wpach/Dropbox/School/USC/Fall 2022/CSCE-585/Project/src/notebooks/../model/train.record\n"
     ]
    }
   ],
   "source": [
    "writer = tf.python_io.TFRecordWriter(output_path)\n",
    "path = os.path.join(os.getcwd(), image_dir)\n",
    "\n",
    "print(\"Reading CSV label file...\")\n",
    "examples = pd.read_csv(csv_input)\n",
    "grouped = split(examples, 'filename')\n",
    "\n",
    "print(\"Beginning compilation...\")\n",
    "\n",
    "for group in grouped:\n",
    "    tf_record = create_tf_record(group, path)\n",
    "    writer.write(tf_record.SerializeToString())\n",
    "\n",
    "writer.close()\n",
    "output_path = os.path.join(os.getcwd(), output_path)\n",
    "print(f\"Successfully created the TFRecords: \\n{output_path}\")"
   ]
  },
  {
   "cell_type": "markdown",
   "id": "8abc0de1",
   "metadata": {},
   "source": [
    "## 2. Downloading Model and Configuration"
   ]
  },
  {
   "cell_type": "code",
   "execution_count": 6,
   "id": "9a20fbef",
   "metadata": {},
   "outputs": [
    {
     "name": "stdout",
     "output_type": "stream",
     "text": [
      "/Users/wpach/Dropbox/School/USC/Fall 2022/CSCE-585/Project/src/model/content\n"
     ]
    }
   ],
   "source": [
    "%cd ../model/content"
   ]
  },
  {
   "cell_type": "markdown",
   "id": "da6c4f98",
   "metadata": {},
   "source": [
    "First, the model itelf must be downloaded. This model is specifically used for object detection and classification, though outhers are also available."
   ]
  },
  {
   "cell_type": "code",
   "execution_count": 7,
   "id": "d0ba6754",
   "metadata": {},
   "outputs": [
    {
     "name": "stdout",
     "output_type": "stream",
     "text": [
      "--2022-09-21 19:14:02--  http://download.tensorflow.org/models/object_detection/classification/tf2/20200710/mobilenet_v2.tar.gz\n",
      "Resolving download.tensorflow.org (download.tensorflow.org)... 2607:f8b0:4000:810::2010, 74.125.136.128\n",
      "Connecting to download.tensorflow.org (download.tensorflow.org)|2607:f8b0:4000:810::2010|:80... connected.\n",
      "HTTP request sent, awaiting response... 200 OK\n",
      "Length: 8404070 (8.0M) [application/x-tar]\n",
      "Saving to: ‘mobilenet_v2.tar.gz’\n",
      "\n",
      "mobilenet_v2.tar.gz 100%[===================>]   8.01M  23.5MB/s    in 0.3s    \n",
      "\n",
      "2022-09-21 19:14:04 (23.5 MB/s) - ‘mobilenet_v2.tar.gz’ saved [8404070/8404070]\n",
      "\n",
      "x mobilenet_v2/\n",
      "x mobilenet_v2/mobilenet_v2.ckpt-1.index\n",
      "x mobilenet_v2/checkpoint\n",
      "x mobilenet_v2/mobilenet_v2.ckpt-1.data-00001-of-00002\n",
      "x mobilenet_v2/mobilenet_v2.ckpt-1.data-00000-of-00002\n"
     ]
    }
   ],
   "source": [
    "!wget http://download.tensorflow.org/models/object_detection/classification/tf2/20200710/mobilenet_v2.tar.gz\n",
    "!tar -xvf mobilenet_v2.tar.gz\n",
    "!rm mobilenet_v2.tar.gz"
   ]
  },
  {
   "cell_type": "markdown",
   "id": "7e804a05",
   "metadata": {},
   "source": [
    "Next, the configuration must be downloaded."
   ]
  },
  {
   "cell_type": "code",
   "execution_count": 8,
   "id": "0a698090",
   "metadata": {},
   "outputs": [
    {
     "name": "stdout",
     "output_type": "stream",
     "text": [
      "--2022-09-21 19:14:09--  https://raw.githubusercontent.com/tensorflow/models/master/research/object_detection/configs/tf2/ssd_mobilenet_v2_320x320_coco17_tpu-8.config\n",
      "Resolving raw.githubusercontent.com (raw.githubusercontent.com)... 2606:50c0:8000::154, 2606:50c0:8002::154, 2606:50c0:8003::154, ...\n",
      "Connecting to raw.githubusercontent.com (raw.githubusercontent.com)|2606:50c0:8000::154|:443... connected.\n",
      "HTTP request sent, awaiting response... 200 OK\n",
      "Length: 4484 (4.4K) [text/plain]\n",
      "Saving to: ‘ssd_mobilenet_v2_320x320_coco17_tpu-8.config’\n",
      "\n",
      "ssd_mobilenet_v2_32 100%[===================>]   4.38K  --.-KB/s    in 0s      \n",
      "\n",
      "2022-09-21 19:14:09 (19.4 MB/s) - ‘ssd_mobilenet_v2_320x320_coco17_tpu-8.config’ saved [4484/4484]\n",
      "\n"
     ]
    }
   ],
   "source": [
    "!wget https://raw.githubusercontent.com/tensorflow/models/master/research/object_detection/configs/tf2/ssd_mobilenet_v2_320x320_coco17_tpu-8.config\n",
    "!mv ssd_mobilenet_v2_320x320_coco17_tpu-8.config mobilenet_v2.config"
   ]
  },
  {
   "cell_type": "markdown",
   "id": "298e824a",
   "metadata": {},
   "source": [
    "TensorFlow has provided a simple [script](https://blog.tensorflow.org/2021/01/custom-object-detection-in-browser.html) automatically adjusting the configuration, employed below. These values can be tweaked and adjusted for more accurate/longer training times, or for expirementation."
   ]
  },
  {
   "cell_type": "code",
   "execution_count": null,
   "id": "87831004",
   "metadata": {},
   "outputs": [],
   "source": [
    "num_classes = 6\n",
    "batch_size = 96\n",
    "num_steps = 7500\n",
    "num_eval_steps = 1000\n",
    "\n",
    "train_record_path = \"../train.record\"\n",
    "test_record_path = \"../test.record\"\n",
    "model_dir = \"../training\"\n",
    "labelmap_path = \"../labelmap.pbtxt\"\n",
    "pipeline_config_path = \"mobilenet_v2.config\"\n",
    "fine_tune_checkpoint = \"mobilenet_v2/mobilenet_v2.ckpt-1\"\n",
    "\n",
    "import re\n",
    "\n",
    "with open(pipeline_config_path) as f:\n",
    "    config = f.read()\n",
    "\n",
    "with open(pipeline_config_path, 'w') as f:\n",
    "    "
   ]
  }
 ],
 "metadata": {
  "kernelspec": {
   "display_name": "Python 3 (ipykernel)",
   "language": "python",
   "name": "python3"
  },
  "language_info": {
   "codemirror_mode": {
    "name": "ipython",
    "version": 3
   },
   "file_extension": ".py",
   "mimetype": "text/x-python",
   "name": "python",
   "nbconvert_exporter": "python",
   "pygments_lexer": "ipython3",
   "version": "3.10.6"
  }
 },
 "nbformat": 4,
 "nbformat_minor": 5
}
