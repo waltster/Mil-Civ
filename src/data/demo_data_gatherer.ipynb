{
 "cells": [
  {
   "cell_type": "markdown",
   "id": "2109343f",
   "metadata": {},
   "source": [
    "# Demo Data Gatherer\n",
    "This will demonstrate the fetching of information for the images and their labels, \n",
    "which we can use later for data preparation.\n",
    "\n",
    "It's a proof of concept."
   ]
  },
  {
   "cell_type": "code",
   "execution_count": 1,
   "id": "08b6dd40",
   "metadata": {},
   "outputs": [],
   "source": [
    "import csv\n",
    "\n",
    "csv_train_labels = open('train_labels.csv')\n",
    "csv_train_label_reader = csv.reader(csv_train_labels, delimiter = ',')\n",
    "csv_test_labels = open('test_labels.csv')\n",
    "csv_test_label_reader = csv.reader(csv_test_labels, delimiter = ',')\n",
    "\n",
    "train_index = 0\n",
    "test_index = 0\n",
    "\n",
    "train_array = []\n",
    "test_array = []\n",
    "image_classes = []\n",
    "\n",
    "class ImageData:\n",
    "    def __init__(self, filename, width, height, _class, xmin, ymin, xmax, ymax):\n",
    "        self.filename = filename\n",
    "        self.width = width\n",
    "        self.height = height\n",
    "        self._class = _class\n",
    "        self.xmin = xmin\n",
    "        self.ymin = ymin\n",
    "        self.xmax = xmax\n",
    "        self.ymax = ymax"
   ]
  },
  {
   "cell_type": "markdown",
   "id": "d35af2a5",
   "metadata": {},
   "source": [
    "The next step is to read the CSV row by row and create an entry for each parameter, then push each image's information into it."
   ]
  },
  {
   "cell_type": "code",
   "execution_count": 2,
   "id": "5d72bc88",
   "metadata": {},
   "outputs": [
    {
     "name": "stdout",
     "output_type": "stream",
     "text": [
      "Imported 10719 training images with labels\n",
      "Imported 719 testing images with labels\n"
     ]
    }
   ],
   "source": [
    "for row in csv_train_label_reader:\n",
    "    if train_index != 0:\n",
    "        image = ImageData(row[0], row[1], row[2], row[3], row[4], row[5], row[6], row[7])\n",
    "        train_array.append(image)\n",
    "        \n",
    "    train_index += 1\n",
    "\n",
    "print(f'Imported {train_index} training images with labels')\n",
    "\n",
    "for row in csv_test_label_reader:\n",
    "    if test_index != 0:\n",
    "        image = ImageData(row[0], row[1], row[2], row[3], row[4], row[5], row[6], row[7])\n",
    "        test_array.append(image)\n",
    "        \n",
    "    test_index += 1\n",
    "\n",
    "print(f'Imported {test_index} testing images with labels')"
   ]
  },
  {
   "cell_type": "code",
   "execution_count": 3,
   "id": "227c05eb",
   "metadata": {},
   "outputs": [
    {
     "name": "stdout",
     "output_type": "stream",
     "text": [
      "['military tank', 'military aircraft', 'military truck', 'civilian aircraft', 'civilian car', 'military helicopter']\n"
     ]
    }
   ],
   "source": [
    "for image in train_array:\n",
    "    if image._class in image_classes:\n",
    "        continue\n",
    "    \n",
    "    image_classes.append(image._class)\n",
    "\n",
    "print(image_classes)"
   ]
  },
  {
   "cell_type": "code",
   "execution_count": null,
   "id": "20d0d63b",
   "metadata": {},
   "outputs": [],
   "source": []
  }
 ],
 "metadata": {
  "kernelspec": {
   "display_name": "Python 3 (ipykernel)",
   "language": "python",
   "name": "python3"
  },
  "language_info": {
   "codemirror_mode": {
    "name": "ipython",
    "version": 3
   },
   "file_extension": ".py",
   "mimetype": "text/x-python",
   "name": "python",
   "nbconvert_exporter": "python",
   "pygments_lexer": "ipython3",
   "version": "3.10.6"
  }
 },
 "nbformat": 4,
 "nbformat_minor": 5
}
