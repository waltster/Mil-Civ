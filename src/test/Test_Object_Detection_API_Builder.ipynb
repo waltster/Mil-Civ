{
 "cells": [
  {
   "cell_type": "code",
   "execution_count": null,
   "id": "3149ed24",
   "metadata": {
    "scrolled": true
   },
   "outputs": [],
   "source": [
    "!git clone https://github.com/tensorflow/models.git"
   ]
  },
  {
   "cell_type": "code",
   "execution_count": null,
   "id": "ae7b306a",
   "metadata": {
    "scrolled": false
   },
   "outputs": [],
   "source": [
    "%cd models/research/\n",
    "!protoc object_detection/protos/*.proto --python_out=.\n",
    "# Install TensorFlow Object Detection API.\n",
    "!cp object_detection/packages/tf2/setup.py .\n",
    "!python3 -m pip install ."
   ]
  },
  {
   "cell_type": "code",
   "execution_count": null,
   "id": "0d4404c8",
   "metadata": {
    "scrolled": true
   },
   "outputs": [],
   "source": [
    "!python3 object_detection/builders/model_builder_tf2_test.py"
   ]
  }
 ],
 "metadata": {
  "kernelspec": {
   "display_name": "Python 3 (ipykernel)",
   "language": "python",
   "name": "python3"
  },
  "language_info": {
   "codemirror_mode": {
    "name": "ipython",
    "version": 3
   },
   "file_extension": ".py",
   "mimetype": "text/x-python",
   "name": "python",
   "nbconvert_exporter": "python",
   "pygments_lexer": "ipython3",
   "version": "3.10.6"
  }
 },
 "nbformat": 4,
 "nbformat_minor": 5
}
